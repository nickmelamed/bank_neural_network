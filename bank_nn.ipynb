{
 "cells": [
  {
   "cell_type": "markdown",
   "id": "ba652776-bb62-4ca1-a82d-7184ca6cae1f",
   "metadata": {},
   "source": [
    "## Imports"
   ]
  },
  {
   "cell_type": "code",
   "execution_count": 1,
   "id": "7bc5f9f5-8da0-42ce-b469-34cc624a9485",
   "metadata": {},
   "outputs": [
    {
     "name": "stderr",
     "output_type": "stream",
     "text": [
      "/Users/nickmelamed/opt/anaconda3/lib/python3.9/site-packages/scipy/__init__.py:146: UserWarning: A NumPy version >=1.16.5 and <1.23.0 is required for this version of SciPy (detected version 1.23.5\n",
      "  warnings.warn(f\"A NumPy version >={np_minversion} and <{np_maxversion}\"\n"
     ]
    }
   ],
   "source": [
    "import pandas as pd \n",
    "import numpy as np\n",
    "from sklearn.model_selection import train_test_split\n",
    "import torch \n",
    "from torch import nn\n",
    "from torch import optim \n",
    "\n",
    "pd.options.mode.chained_assignment = None"
   ]
  },
  {
   "cell_type": "markdown",
   "id": "04a78dce-0ee6-49d2-925d-54e8eb42618b",
   "metadata": {},
   "source": [
    "## Data Cleaning"
   ]
  },
  {
   "cell_type": "code",
   "execution_count": 2,
   "id": "303f6020-c87d-4e56-81ce-78a4077c400b",
   "metadata": {},
   "outputs": [
    {
     "data": {
      "text/html": [
       "<div>\n",
       "<style scoped>\n",
       "    .dataframe tbody tr th:only-of-type {\n",
       "        vertical-align: middle;\n",
       "    }\n",
       "\n",
       "    .dataframe tbody tr th {\n",
       "        vertical-align: top;\n",
       "    }\n",
       "\n",
       "    .dataframe thead th {\n",
       "        text-align: right;\n",
       "    }\n",
       "</style>\n",
       "<table border=\"1\" class=\"dataframe\">\n",
       "  <thead>\n",
       "    <tr style=\"text-align: right;\">\n",
       "      <th></th>\n",
       "      <th>age</th>\n",
       "      <th>job</th>\n",
       "      <th>marital</th>\n",
       "      <th>education</th>\n",
       "      <th>default</th>\n",
       "      <th>housing</th>\n",
       "      <th>loan</th>\n",
       "      <th>contact</th>\n",
       "      <th>month</th>\n",
       "      <th>day_of_week</th>\n",
       "      <th>...</th>\n",
       "      <th>campaign</th>\n",
       "      <th>pdays</th>\n",
       "      <th>previous</th>\n",
       "      <th>poutcome</th>\n",
       "      <th>emp.var.rate</th>\n",
       "      <th>cons.price.idx</th>\n",
       "      <th>cons.conf.idx</th>\n",
       "      <th>euribor3m</th>\n",
       "      <th>nr.employed</th>\n",
       "      <th>y</th>\n",
       "    </tr>\n",
       "  </thead>\n",
       "  <tbody>\n",
       "    <tr>\n",
       "      <th>0</th>\n",
       "      <td>56</td>\n",
       "      <td>housemaid</td>\n",
       "      <td>married</td>\n",
       "      <td>basic.4y</td>\n",
       "      <td>no</td>\n",
       "      <td>no</td>\n",
       "      <td>no</td>\n",
       "      <td>telephone</td>\n",
       "      <td>may</td>\n",
       "      <td>mon</td>\n",
       "      <td>...</td>\n",
       "      <td>1</td>\n",
       "      <td>999</td>\n",
       "      <td>0</td>\n",
       "      <td>nonexistent</td>\n",
       "      <td>1.1</td>\n",
       "      <td>93.994</td>\n",
       "      <td>-36.4</td>\n",
       "      <td>4.857</td>\n",
       "      <td>5191.0</td>\n",
       "      <td>no</td>\n",
       "    </tr>\n",
       "    <tr>\n",
       "      <th>1</th>\n",
       "      <td>57</td>\n",
       "      <td>services</td>\n",
       "      <td>married</td>\n",
       "      <td>high.school</td>\n",
       "      <td>unknown</td>\n",
       "      <td>no</td>\n",
       "      <td>no</td>\n",
       "      <td>telephone</td>\n",
       "      <td>may</td>\n",
       "      <td>mon</td>\n",
       "      <td>...</td>\n",
       "      <td>1</td>\n",
       "      <td>999</td>\n",
       "      <td>0</td>\n",
       "      <td>nonexistent</td>\n",
       "      <td>1.1</td>\n",
       "      <td>93.994</td>\n",
       "      <td>-36.4</td>\n",
       "      <td>4.857</td>\n",
       "      <td>5191.0</td>\n",
       "      <td>no</td>\n",
       "    </tr>\n",
       "    <tr>\n",
       "      <th>2</th>\n",
       "      <td>37</td>\n",
       "      <td>services</td>\n",
       "      <td>married</td>\n",
       "      <td>high.school</td>\n",
       "      <td>no</td>\n",
       "      <td>yes</td>\n",
       "      <td>no</td>\n",
       "      <td>telephone</td>\n",
       "      <td>may</td>\n",
       "      <td>mon</td>\n",
       "      <td>...</td>\n",
       "      <td>1</td>\n",
       "      <td>999</td>\n",
       "      <td>0</td>\n",
       "      <td>nonexistent</td>\n",
       "      <td>1.1</td>\n",
       "      <td>93.994</td>\n",
       "      <td>-36.4</td>\n",
       "      <td>4.857</td>\n",
       "      <td>5191.0</td>\n",
       "      <td>no</td>\n",
       "    </tr>\n",
       "    <tr>\n",
       "      <th>3</th>\n",
       "      <td>40</td>\n",
       "      <td>admin.</td>\n",
       "      <td>married</td>\n",
       "      <td>basic.6y</td>\n",
       "      <td>no</td>\n",
       "      <td>no</td>\n",
       "      <td>no</td>\n",
       "      <td>telephone</td>\n",
       "      <td>may</td>\n",
       "      <td>mon</td>\n",
       "      <td>...</td>\n",
       "      <td>1</td>\n",
       "      <td>999</td>\n",
       "      <td>0</td>\n",
       "      <td>nonexistent</td>\n",
       "      <td>1.1</td>\n",
       "      <td>93.994</td>\n",
       "      <td>-36.4</td>\n",
       "      <td>4.857</td>\n",
       "      <td>5191.0</td>\n",
       "      <td>no</td>\n",
       "    </tr>\n",
       "    <tr>\n",
       "      <th>4</th>\n",
       "      <td>56</td>\n",
       "      <td>services</td>\n",
       "      <td>married</td>\n",
       "      <td>high.school</td>\n",
       "      <td>no</td>\n",
       "      <td>no</td>\n",
       "      <td>yes</td>\n",
       "      <td>telephone</td>\n",
       "      <td>may</td>\n",
       "      <td>mon</td>\n",
       "      <td>...</td>\n",
       "      <td>1</td>\n",
       "      <td>999</td>\n",
       "      <td>0</td>\n",
       "      <td>nonexistent</td>\n",
       "      <td>1.1</td>\n",
       "      <td>93.994</td>\n",
       "      <td>-36.4</td>\n",
       "      <td>4.857</td>\n",
       "      <td>5191.0</td>\n",
       "      <td>no</td>\n",
       "    </tr>\n",
       "  </tbody>\n",
       "</table>\n",
       "<p>5 rows × 21 columns</p>\n",
       "</div>"
      ],
      "text/plain": [
       "   age        job  marital    education  default housing loan    contact  \\\n",
       "0   56  housemaid  married     basic.4y       no      no   no  telephone   \n",
       "1   57   services  married  high.school  unknown      no   no  telephone   \n",
       "2   37   services  married  high.school       no     yes   no  telephone   \n",
       "3   40     admin.  married     basic.6y       no      no   no  telephone   \n",
       "4   56   services  married  high.school       no      no  yes  telephone   \n",
       "\n",
       "  month day_of_week  ...  campaign  pdays  previous     poutcome emp.var.rate  \\\n",
       "0   may         mon  ...         1    999         0  nonexistent          1.1   \n",
       "1   may         mon  ...         1    999         0  nonexistent          1.1   \n",
       "2   may         mon  ...         1    999         0  nonexistent          1.1   \n",
       "3   may         mon  ...         1    999         0  nonexistent          1.1   \n",
       "4   may         mon  ...         1    999         0  nonexistent          1.1   \n",
       "\n",
       "   cons.price.idx  cons.conf.idx  euribor3m  nr.employed   y  \n",
       "0          93.994          -36.4      4.857       5191.0  no  \n",
       "1          93.994          -36.4      4.857       5191.0  no  \n",
       "2          93.994          -36.4      4.857       5191.0  no  \n",
       "3          93.994          -36.4      4.857       5191.0  no  \n",
       "4          93.994          -36.4      4.857       5191.0  no  \n",
       "\n",
       "[5 rows x 21 columns]"
      ]
     },
     "execution_count": 2,
     "metadata": {},
     "output_type": "execute_result"
    }
   ],
   "source": [
    "df = pd.read_csv(\"./data/bank-additional-full.csv\", delimiter = \";\")\n",
    "df.head(5)"
   ]
  },
  {
   "cell_type": "markdown",
   "id": "540d234e-ba62-467f-a1f6-276ecbdb7397",
   "metadata": {},
   "source": [
    "The description of the columns can be found at the UCI Machine Learning Repository, linked [here](https://archive.ics.uci.edu/dataset/222/bank+marketing)"
   ]
  },
  {
   "cell_type": "code",
   "execution_count": 3,
   "id": "cf9cdd6e-9607-428e-829a-f195b2803c06",
   "metadata": {},
   "outputs": [
    {
     "data": {
      "text/plain": [
       "Index(['age', 'job', 'marital', 'education', 'default', 'housing', 'loan',\n",
       "       'contact', 'month', 'day_of_week', 'duration', 'campaign', 'pdays',\n",
       "       'previous', 'poutcome', 'emp.var.rate', 'cons.price.idx',\n",
       "       'cons.conf.idx', 'euribor3m', 'nr.employed', 'y'],\n",
       "      dtype='object')"
      ]
     },
     "execution_count": 3,
     "metadata": {},
     "output_type": "execute_result"
    }
   ],
   "source": [
    "df.columns"
   ]
  },
  {
   "cell_type": "markdown",
   "id": "36de3c15-b5b2-4671-82d6-93fb532c83b1",
   "metadata": {},
   "source": [
    "For this particular analysis, I am going to ignore economic factors, as I will take the simplifying assumption that the majority of people who are in this campaign are not making decisions based on economic factors like the consumer price index."
   ]
  },
  {
   "cell_type": "code",
   "execution_count": 4,
   "id": "ce26f816-4819-4add-bf86-73467efec00b",
   "metadata": {},
   "outputs": [
    {
     "data": {
      "text/html": [
       "<div>\n",
       "<style scoped>\n",
       "    .dataframe tbody tr th:only-of-type {\n",
       "        vertical-align: middle;\n",
       "    }\n",
       "\n",
       "    .dataframe tbody tr th {\n",
       "        vertical-align: top;\n",
       "    }\n",
       "\n",
       "    .dataframe thead th {\n",
       "        text-align: right;\n",
       "    }\n",
       "</style>\n",
       "<table border=\"1\" class=\"dataframe\">\n",
       "  <thead>\n",
       "    <tr style=\"text-align: right;\">\n",
       "      <th></th>\n",
       "      <th>age</th>\n",
       "      <th>job</th>\n",
       "      <th>marital</th>\n",
       "      <th>education</th>\n",
       "      <th>default</th>\n",
       "      <th>housing</th>\n",
       "      <th>loan</th>\n",
       "      <th>contact</th>\n",
       "      <th>month</th>\n",
       "      <th>day_of_week</th>\n",
       "      <th>duration</th>\n",
       "      <th>campaign</th>\n",
       "      <th>pdays</th>\n",
       "      <th>previous</th>\n",
       "      <th>poutcome</th>\n",
       "      <th>y</th>\n",
       "    </tr>\n",
       "  </thead>\n",
       "  <tbody>\n",
       "    <tr>\n",
       "      <th>0</th>\n",
       "      <td>56</td>\n",
       "      <td>housemaid</td>\n",
       "      <td>married</td>\n",
       "      <td>basic.4y</td>\n",
       "      <td>no</td>\n",
       "      <td>no</td>\n",
       "      <td>no</td>\n",
       "      <td>telephone</td>\n",
       "      <td>may</td>\n",
       "      <td>mon</td>\n",
       "      <td>261</td>\n",
       "      <td>1</td>\n",
       "      <td>999</td>\n",
       "      <td>0</td>\n",
       "      <td>nonexistent</td>\n",
       "      <td>no</td>\n",
       "    </tr>\n",
       "    <tr>\n",
       "      <th>1</th>\n",
       "      <td>57</td>\n",
       "      <td>services</td>\n",
       "      <td>married</td>\n",
       "      <td>high.school</td>\n",
       "      <td>unknown</td>\n",
       "      <td>no</td>\n",
       "      <td>no</td>\n",
       "      <td>telephone</td>\n",
       "      <td>may</td>\n",
       "      <td>mon</td>\n",
       "      <td>149</td>\n",
       "      <td>1</td>\n",
       "      <td>999</td>\n",
       "      <td>0</td>\n",
       "      <td>nonexistent</td>\n",
       "      <td>no</td>\n",
       "    </tr>\n",
       "    <tr>\n",
       "      <th>2</th>\n",
       "      <td>37</td>\n",
       "      <td>services</td>\n",
       "      <td>married</td>\n",
       "      <td>high.school</td>\n",
       "      <td>no</td>\n",
       "      <td>yes</td>\n",
       "      <td>no</td>\n",
       "      <td>telephone</td>\n",
       "      <td>may</td>\n",
       "      <td>mon</td>\n",
       "      <td>226</td>\n",
       "      <td>1</td>\n",
       "      <td>999</td>\n",
       "      <td>0</td>\n",
       "      <td>nonexistent</td>\n",
       "      <td>no</td>\n",
       "    </tr>\n",
       "    <tr>\n",
       "      <th>3</th>\n",
       "      <td>40</td>\n",
       "      <td>admin.</td>\n",
       "      <td>married</td>\n",
       "      <td>basic.6y</td>\n",
       "      <td>no</td>\n",
       "      <td>no</td>\n",
       "      <td>no</td>\n",
       "      <td>telephone</td>\n",
       "      <td>may</td>\n",
       "      <td>mon</td>\n",
       "      <td>151</td>\n",
       "      <td>1</td>\n",
       "      <td>999</td>\n",
       "      <td>0</td>\n",
       "      <td>nonexistent</td>\n",
       "      <td>no</td>\n",
       "    </tr>\n",
       "    <tr>\n",
       "      <th>4</th>\n",
       "      <td>56</td>\n",
       "      <td>services</td>\n",
       "      <td>married</td>\n",
       "      <td>high.school</td>\n",
       "      <td>no</td>\n",
       "      <td>no</td>\n",
       "      <td>yes</td>\n",
       "      <td>telephone</td>\n",
       "      <td>may</td>\n",
       "      <td>mon</td>\n",
       "      <td>307</td>\n",
       "      <td>1</td>\n",
       "      <td>999</td>\n",
       "      <td>0</td>\n",
       "      <td>nonexistent</td>\n",
       "      <td>no</td>\n",
       "    </tr>\n",
       "  </tbody>\n",
       "</table>\n",
       "</div>"
      ],
      "text/plain": [
       "   age        job  marital    education  default housing loan    contact  \\\n",
       "0   56  housemaid  married     basic.4y       no      no   no  telephone   \n",
       "1   57   services  married  high.school  unknown      no   no  telephone   \n",
       "2   37   services  married  high.school       no     yes   no  telephone   \n",
       "3   40     admin.  married     basic.6y       no      no   no  telephone   \n",
       "4   56   services  married  high.school       no      no  yes  telephone   \n",
       "\n",
       "  month day_of_week  duration  campaign  pdays  previous     poutcome   y  \n",
       "0   may         mon       261         1    999         0  nonexistent  no  \n",
       "1   may         mon       149         1    999         0  nonexistent  no  \n",
       "2   may         mon       226         1    999         0  nonexistent  no  \n",
       "3   may         mon       151         1    999         0  nonexistent  no  \n",
       "4   may         mon       307         1    999         0  nonexistent  no  "
      ]
     },
     "execution_count": 4,
     "metadata": {},
     "output_type": "execute_result"
    }
   ],
   "source": [
    "df = df[df.columns[~df.columns.isin(['emp.var.rate', 'cons.price.idx','cons.conf.idx', 'euribor3m', 'nr.employed'])]]\n",
    "df.head(5)"
   ]
  },
  {
   "cell_type": "code",
   "execution_count": 5,
   "id": "bf261b37-5288-480a-bc99-04bb9a0afe8b",
   "metadata": {},
   "outputs": [
    {
     "data": {
      "text/plain": [
       "no         32588\n",
       "unknown     8597\n",
       "yes            3\n",
       "Name: default, dtype: int64"
      ]
     },
     "execution_count": 5,
     "metadata": {},
     "output_type": "execute_result"
    }
   ],
   "source": [
    "df['default'].value_counts()"
   ]
  },
  {
   "cell_type": "code",
   "execution_count": 6,
   "id": "7808cb1a-d7f8-4908-ba4f-c68913ee27db",
   "metadata": {},
   "outputs": [
    {
     "data": {
      "text/plain": [
       "yes        21576\n",
       "no         18622\n",
       "unknown      990\n",
       "Name: housing, dtype: int64"
      ]
     },
     "execution_count": 6,
     "metadata": {},
     "output_type": "execute_result"
    }
   ],
   "source": [
    "df['housing'].value_counts()"
   ]
  },
  {
   "cell_type": "code",
   "execution_count": 7,
   "id": "7b452bb3-d02b-4a40-8c20-e2438ac5c482",
   "metadata": {},
   "outputs": [
    {
     "data": {
      "text/plain": [
       "no         33950\n",
       "yes         6248\n",
       "unknown      990\n",
       "Name: loan, dtype: int64"
      ]
     },
     "execution_count": 7,
     "metadata": {},
     "output_type": "execute_result"
    }
   ],
   "source": [
    "df['loan'].value_counts()"
   ]
  },
  {
   "cell_type": "markdown",
   "id": "a9036b73-5650-4e4a-84ef-3c05b73f5dff",
   "metadata": {},
   "source": [
    "As we can see from above, the number of customers who have defaulted on previous loans is relatively low. So, to avoid dealing with the unknown values, we will make the assumption that the vast majority of people have not defaulted and therefore this column does not provide us any predictive information. \n",
    "\n",
    "We will also drop the unknowns from people who have taken housing or personal loans, as we have a sufficient sample size without the unknowns."
   ]
  },
  {
   "cell_type": "code",
   "execution_count": 8,
   "id": "07781a83-1e03-4e5c-93bb-216d46aa5406",
   "metadata": {},
   "outputs": [],
   "source": [
    "df = df.drop(columns = ['default'])\n",
    "\n",
    "df = df[(df['housing'] != 'unknown') & (df['loan'] != 'unknown')]"
   ]
  },
  {
   "cell_type": "markdown",
   "id": "05e5e3f1-68b0-431a-9400-b0f66dc1cd56",
   "metadata": {},
   "source": [
    "In order to run our neural network, we have to make all of our variables numeric. We do so by turning any categorical variables into dummy variables (1 = variable is true, 0 = false), and, since the binary variables are stored as yes/no variables, we will convert those into 1/0 values as well. "
   ]
  },
  {
   "cell_type": "code",
   "execution_count": 9,
   "id": "c6da9a5b-2421-40e7-a67b-e25a9de72830",
   "metadata": {},
   "outputs": [
    {
     "data": {
      "text/html": [
       "<div>\n",
       "<style scoped>\n",
       "    .dataframe tbody tr th:only-of-type {\n",
       "        vertical-align: middle;\n",
       "    }\n",
       "\n",
       "    .dataframe tbody tr th {\n",
       "        vertical-align: top;\n",
       "    }\n",
       "\n",
       "    .dataframe thead th {\n",
       "        text-align: right;\n",
       "    }\n",
       "</style>\n",
       "<table border=\"1\" class=\"dataframe\">\n",
       "  <thead>\n",
       "    <tr style=\"text-align: right;\">\n",
       "      <th></th>\n",
       "      <th>age</th>\n",
       "      <th>housing</th>\n",
       "      <th>loan</th>\n",
       "      <th>duration</th>\n",
       "      <th>campaign</th>\n",
       "      <th>pdays</th>\n",
       "      <th>previous</th>\n",
       "      <th>y</th>\n",
       "      <th>job: admin.</th>\n",
       "      <th>job: blue-collar</th>\n",
       "      <th>...</th>\n",
       "      <th>month: oct</th>\n",
       "      <th>month: sep</th>\n",
       "      <th>day_of_week: fri</th>\n",
       "      <th>day_of_week: mon</th>\n",
       "      <th>day_of_week: thu</th>\n",
       "      <th>day_of_week: tue</th>\n",
       "      <th>day_of_week: wed</th>\n",
       "      <th>poutcome: failure</th>\n",
       "      <th>poutcome: nonexistent</th>\n",
       "      <th>poutcome: success</th>\n",
       "    </tr>\n",
       "  </thead>\n",
       "  <tbody>\n",
       "    <tr>\n",
       "      <th>0</th>\n",
       "      <td>56</td>\n",
       "      <td>0</td>\n",
       "      <td>0</td>\n",
       "      <td>261</td>\n",
       "      <td>1</td>\n",
       "      <td>999</td>\n",
       "      <td>0</td>\n",
       "      <td>0</td>\n",
       "      <td>0</td>\n",
       "      <td>0</td>\n",
       "      <td>...</td>\n",
       "      <td>0</td>\n",
       "      <td>0</td>\n",
       "      <td>0</td>\n",
       "      <td>1</td>\n",
       "      <td>0</td>\n",
       "      <td>0</td>\n",
       "      <td>0</td>\n",
       "      <td>0</td>\n",
       "      <td>1</td>\n",
       "      <td>0</td>\n",
       "    </tr>\n",
       "    <tr>\n",
       "      <th>1</th>\n",
       "      <td>57</td>\n",
       "      <td>0</td>\n",
       "      <td>0</td>\n",
       "      <td>149</td>\n",
       "      <td>1</td>\n",
       "      <td>999</td>\n",
       "      <td>0</td>\n",
       "      <td>0</td>\n",
       "      <td>0</td>\n",
       "      <td>0</td>\n",
       "      <td>...</td>\n",
       "      <td>0</td>\n",
       "      <td>0</td>\n",
       "      <td>0</td>\n",
       "      <td>1</td>\n",
       "      <td>0</td>\n",
       "      <td>0</td>\n",
       "      <td>0</td>\n",
       "      <td>0</td>\n",
       "      <td>1</td>\n",
       "      <td>0</td>\n",
       "    </tr>\n",
       "    <tr>\n",
       "      <th>2</th>\n",
       "      <td>37</td>\n",
       "      <td>1</td>\n",
       "      <td>0</td>\n",
       "      <td>226</td>\n",
       "      <td>1</td>\n",
       "      <td>999</td>\n",
       "      <td>0</td>\n",
       "      <td>0</td>\n",
       "      <td>0</td>\n",
       "      <td>0</td>\n",
       "      <td>...</td>\n",
       "      <td>0</td>\n",
       "      <td>0</td>\n",
       "      <td>0</td>\n",
       "      <td>1</td>\n",
       "      <td>0</td>\n",
       "      <td>0</td>\n",
       "      <td>0</td>\n",
       "      <td>0</td>\n",
       "      <td>1</td>\n",
       "      <td>0</td>\n",
       "    </tr>\n",
       "    <tr>\n",
       "      <th>3</th>\n",
       "      <td>40</td>\n",
       "      <td>0</td>\n",
       "      <td>0</td>\n",
       "      <td>151</td>\n",
       "      <td>1</td>\n",
       "      <td>999</td>\n",
       "      <td>0</td>\n",
       "      <td>0</td>\n",
       "      <td>1</td>\n",
       "      <td>0</td>\n",
       "      <td>...</td>\n",
       "      <td>0</td>\n",
       "      <td>0</td>\n",
       "      <td>0</td>\n",
       "      <td>1</td>\n",
       "      <td>0</td>\n",
       "      <td>0</td>\n",
       "      <td>0</td>\n",
       "      <td>0</td>\n",
       "      <td>1</td>\n",
       "      <td>0</td>\n",
       "    </tr>\n",
       "    <tr>\n",
       "      <th>4</th>\n",
       "      <td>56</td>\n",
       "      <td>0</td>\n",
       "      <td>1</td>\n",
       "      <td>307</td>\n",
       "      <td>1</td>\n",
       "      <td>999</td>\n",
       "      <td>0</td>\n",
       "      <td>0</td>\n",
       "      <td>0</td>\n",
       "      <td>0</td>\n",
       "      <td>...</td>\n",
       "      <td>0</td>\n",
       "      <td>0</td>\n",
       "      <td>0</td>\n",
       "      <td>1</td>\n",
       "      <td>0</td>\n",
       "      <td>0</td>\n",
       "      <td>0</td>\n",
       "      <td>0</td>\n",
       "      <td>1</td>\n",
       "      <td>0</td>\n",
       "    </tr>\n",
       "  </tbody>\n",
       "</table>\n",
       "<p>5 rows × 52 columns</p>\n",
       "</div>"
      ],
      "text/plain": [
       "   age  housing  loan  duration  campaign  pdays  previous  y  job: admin.  \\\n",
       "0   56        0     0       261         1    999         0  0            0   \n",
       "1   57        0     0       149         1    999         0  0            0   \n",
       "2   37        1     0       226         1    999         0  0            0   \n",
       "3   40        0     0       151         1    999         0  0            1   \n",
       "4   56        0     1       307         1    999         0  0            0   \n",
       "\n",
       "   job: blue-collar  ...  month: oct  month: sep  day_of_week: fri  \\\n",
       "0                 0  ...           0           0                 0   \n",
       "1                 0  ...           0           0                 0   \n",
       "2                 0  ...           0           0                 0   \n",
       "3                 0  ...           0           0                 0   \n",
       "4                 0  ...           0           0                 0   \n",
       "\n",
       "   day_of_week: mon  day_of_week: thu  day_of_week: tue  day_of_week: wed  \\\n",
       "0                 1                 0                 0                 0   \n",
       "1                 1                 0                 0                 0   \n",
       "2                 1                 0                 0                 0   \n",
       "3                 1                 0                 0                 0   \n",
       "4                 1                 0                 0                 0   \n",
       "\n",
       "   poutcome: failure  poutcome: nonexistent  poutcome: success  \n",
       "0                  0                      1                  0  \n",
       "1                  0                      1                  0  \n",
       "2                  0                      1                  0  \n",
       "3                  0                      1                  0  \n",
       "4                  0                      1                  0  \n",
       "\n",
       "[5 rows x 52 columns]"
      ]
     },
     "execution_count": 9,
     "metadata": {},
     "output_type": "execute_result"
    }
   ],
   "source": [
    "# converting categorical variables into dummies\n",
    "\n",
    "df_dummy = pd.get_dummies(df, columns = ['job', 'marital', 'education', 'contact', 'month', 'day_of_week', 'poutcome'], prefix_sep = ': ')\n",
    "\n",
    "# turning y/n variables into 1/0\n",
    "\n",
    "df_dummy['housing'] = np.where(df['housing'].values == 'yes', 1, 0)\n",
    "df_dummy['loan'] = np.where(df['loan'].values == 'yes', 1, 0)\n",
    "df_dummy['y'] = np.where(df['y'].values == 'yes', 1, 0)\n",
    "\n",
    "df_dummy.head(5)"
   ]
  },
  {
   "cell_type": "markdown",
   "id": "a5547b18-d530-4dbc-8968-13f77f852ad8",
   "metadata": {},
   "source": [
    "## Building the Neural Network"
   ]
  },
  {
   "cell_type": "markdown",
   "id": "4ebd5c7e-1166-4d4b-a45c-adb4a6e2e8f3",
   "metadata": {},
   "source": [
    "For any model building, we want to ensure our model is not trained on the entirety of our dataset. Otherwise, we would have no data to test the model on, and run the risk of overtraining. I have decided to use Scikit-Learn to split the dataset into 70% training data, 30% testing data. An 80-20 split is another popular option but I prefer to have more testing data to ensure the model is even less susceptible to the overtraining problem.\n",
    "\n",
    "We make sure our outcome variable, y (whether or not the client subscribed to the term deposit, the goal of the campaign), is separated from our other predictor variables.  "
   ]
  },
  {
   "cell_type": "code",
   "execution_count": 10,
   "id": "139b4ff9-3256-4f47-961d-7b8f247a4e1e",
   "metadata": {},
   "outputs": [],
   "source": [
    "X = df_dummy[df_dummy.columns[~df_dummy.columns.isin(['y'])]]\n",
    "y = df_dummy['y']\n",
    "\n",
    "X_train, X_test, y_train, y_test = train_test_split(X, y, random_state=0, train_size = .70)"
   ]
  },
  {
   "cell_type": "markdown",
   "id": "932eacd3-4074-4d79-b3e9-e3847942e8c1",
   "metadata": {},
   "source": [
    "### Training the Sequential Neural Network"
   ]
  },
  {
   "cell_type": "code",
   "execution_count": 11,
   "id": "98e7f0d3-d68c-46cb-9a9c-f5561beaf4e1",
   "metadata": {},
   "outputs": [],
   "source": [
    "def df_to_tensor(df, outcome):\n",
    "    ''' Converts a df into a numpy array and then a Tensor with dtype float32 to be used in a PyTorch model \n",
    "        \n",
    "        Params: \n",
    "            df (DataFrame): Input dataframe to be converted\n",
    "            outcome (Boolean): Whether or not the df is an outcome vector; if it is, must be converted to 1D tensor for processing\n",
    "        \n",
    "        Returns:\n",
    "            as_tensor (Tensor): dtype float32 Tensor; use float32 as it is the input type for torch.nn neural networks\n",
    "            \n",
    "    '''\n",
    "    \n",
    "    df_np = df.to_numpy() # convert to numpy so we can use torch.from_numpy method\n",
    "    if outcome: \n",
    "        return torch.from_numpy(df_np).reshape(-1, 1).to(torch.float32) # reshape makes the Tensor 1D if it is an outcome vector\n",
    "    return torch.from_numpy(df_np).to(torch.float32)"
   ]
  },
  {
   "cell_type": "code",
   "execution_count": 12,
   "id": "9c2ef25c-e58d-4f78-8db8-d37f9a6800f3",
   "metadata": {},
   "outputs": [],
   "source": [
    "# converting training data into tensors\n",
    "\n",
    "X_train_tensor = df_to_tensor(X_train, outcome = False)\n",
    "y_train_tensor = df_to_tensor(y_train, outcome = True)"
   ]
  },
  {
   "cell_type": "markdown",
   "id": "021dffef-232c-4c4e-b3cd-7666953e4a1e",
   "metadata": {},
   "source": [
    "For our model, we will be using PyTorch's Sequential Neural Network (SNN), as it allows us to utilize multiple layers in a sequential order. Being able to apply multiple activation functions to our model allows for more thorough training of the model. \n",
    "\n",
    "For this given model, we use two Linear Modules as our hidden layers to perform linear transformations (for ease of calculation), along with the ReLU activation function for both layers. Our output layer makes use of a Sigmoid function, as this maps our transformed data to [0,1] for classification. \n",
    "\n",
    "With regards to the number of neurons we use for our hidden layers, many rules of thumb have been proposed. Some have suggested that the number of neurons should be $\\frac{2}{3}$ that of the output layer, some have suggested no more than 2x the input layer, so we will split the middle and use 1.3x. This is an arbitrary decision, but since there is not much literature for guidance beyond these softer suggestions, we will make do with this in lieu of extensive guess and check. "
   ]
  },
  {
   "cell_type": "code",
   "execution_count": 13,
   "id": "17f126c9-3bcb-4a65-a9f8-41f4f57b0663",
   "metadata": {},
   "outputs": [],
   "source": [
    "# calculating the number of output neurons for our hidden layers \n",
    "\n",
    "N_i = len(X_train.columns) # number of features represents the number of the nodes in the input layer\n",
    "\n",
    "N_h = int(1.3 * N_i)"
   ]
  },
  {
   "cell_type": "code",
   "execution_count": 15,
   "id": "8ab26524-4bb4-4404-9e94-2c73a25d11a2",
   "metadata": {},
   "outputs": [],
   "source": [
    "# Building the model using PyTorch\n",
    "\n",
    "model = nn.Sequential(\n",
    "    nn.Linear(N_i, N_h),\n",
    "    nn.ReLU(),\n",
    "    nn.Linear(N_h, N_i),\n",
    "    nn.ReLU(),\n",
    "    nn.Linear(N_i, 1),\n",
    "    nn.Sigmoid())"
   ]
  },
  {
   "cell_type": "markdown",
   "id": "611d3057-e25f-4ecf-9ebf-70b940c5e1cc",
   "metadata": {},
   "source": [
    "Since we are using a binary classifier (either the campaign is successful or it isn't), we use Binary Cross Entropy loss as it measures the error in mislabeled outcomes for a single outcome vector. We use the Adam optimizer due to its ability to have quick convergence and deal with sparse gradients, which we may deal with as a result of having a lot of dummy variables. \n",
    "\n",
    "As for how we go about training the model, we use 100 epochs, which represents the number of times the entire dataset is run through the model. 100 is a fairly traditional number based on the existing NN literature. For batch size, which is the size of the sample that is run through the model at a time, as we are using batch gradient descent, powers of 2 are common, with 32 being considered the upper limit for batch size. We will use this upper limit as we are dealing with a high number of samples (N = ~40,000). Our learning rate of "
   ]
  },
  {
   "cell_type": "code",
   "execution_count": 16,
   "id": "24e330c0-b3e2-4cd6-a2f4-9dfdd606aad5",
   "metadata": {},
   "outputs": [
    {
     "name": "stdout",
     "output_type": "stream",
     "text": [
      "Finished epoch 0, latest loss 0.18856552243232727\n",
      "Finished epoch 1, latest loss 0.20715510845184326\n",
      "Finished epoch 2, latest loss 0.2161976397037506\n",
      "Finished epoch 3, latest loss 0.22060783207416534\n",
      "Finished epoch 4, latest loss 0.20400890707969666\n",
      "Finished epoch 5, latest loss 0.2126678228378296\n",
      "Finished epoch 6, latest loss 0.2167832851409912\n",
      "Finished epoch 7, latest loss 0.21284911036491394\n",
      "Finished epoch 8, latest loss 0.21430900692939758\n",
      "Finished epoch 9, latest loss 0.2120378017425537\n",
      "Finished epoch 10, latest loss 0.20331361889839172\n",
      "Finished epoch 11, latest loss 0.20104184746742249\n",
      "Finished epoch 12, latest loss 0.19760745763778687\n",
      "Finished epoch 13, latest loss 0.19361495971679688\n",
      "Finished epoch 14, latest loss 0.19413995742797852\n",
      "Finished epoch 15, latest loss 0.19805803894996643\n",
      "Finished epoch 16, latest loss 0.19529077410697937\n",
      "Finished epoch 17, latest loss 0.19745048880577087\n",
      "Finished epoch 18, latest loss 0.19956663250923157\n",
      "Finished epoch 19, latest loss 0.2062881886959076\n",
      "Finished epoch 20, latest loss 0.19481459259986877\n",
      "Finished epoch 21, latest loss 0.19449922442436218\n",
      "Finished epoch 22, latest loss 0.19863979518413544\n",
      "Finished epoch 23, latest loss 0.19977815449237823\n",
      "Finished epoch 24, latest loss 0.1957605928182602\n",
      "Finished epoch 25, latest loss 0.19542402029037476\n",
      "Finished epoch 26, latest loss 0.19685281813144684\n",
      "Finished epoch 27, latest loss 0.18754881620407104\n",
      "Finished epoch 28, latest loss 0.1949288547039032\n",
      "Finished epoch 29, latest loss 0.19336023926734924\n",
      "Finished epoch 30, latest loss 0.18567584455013275\n",
      "Finished epoch 31, latest loss 0.18362942337989807\n",
      "Finished epoch 32, latest loss 0.18454411625862122\n",
      "Finished epoch 33, latest loss 0.1865263730287552\n",
      "Finished epoch 34, latest loss 0.18120542168617249\n",
      "Finished epoch 35, latest loss 0.19550001621246338\n",
      "Finished epoch 36, latest loss 0.1866062879562378\n",
      "Finished epoch 37, latest loss 0.18505282700061798\n",
      "Finished epoch 38, latest loss 0.18136897683143616\n",
      "Finished epoch 39, latest loss 0.17971643805503845\n",
      "Finished epoch 40, latest loss 0.1823982298374176\n",
      "Finished epoch 41, latest loss 0.17830286920070648\n",
      "Finished epoch 42, latest loss 0.18456169962882996\n",
      "Finished epoch 43, latest loss 0.18087348341941833\n",
      "Finished epoch 44, latest loss 0.180881068110466\n",
      "Finished epoch 45, latest loss 0.18179509043693542\n",
      "Finished epoch 46, latest loss 0.18864114582538605\n",
      "Finished epoch 47, latest loss 0.18216758966445923\n",
      "Finished epoch 48, latest loss 0.17801885306835175\n",
      "Finished epoch 49, latest loss 0.18312248587608337\n",
      "Finished epoch 50, latest loss 0.1876666396856308\n",
      "Finished epoch 51, latest loss 0.17581334710121155\n",
      "Finished epoch 52, latest loss 0.1802704781293869\n",
      "Finished epoch 53, latest loss 0.17263083159923553\n",
      "Finished epoch 54, latest loss 0.17963646352291107\n",
      "Finished epoch 55, latest loss 0.17834347486495972\n",
      "Finished epoch 56, latest loss 0.18083396553993225\n",
      "Finished epoch 57, latest loss 0.17899861931800842\n",
      "Finished epoch 58, latest loss 0.17577950656414032\n",
      "Finished epoch 59, latest loss 0.17145538330078125\n",
      "Finished epoch 60, latest loss 0.1831376701593399\n",
      "Finished epoch 61, latest loss 0.17340175807476044\n",
      "Finished epoch 62, latest loss 0.17077238857746124\n",
      "Finished epoch 63, latest loss 0.176151841878891\n",
      "Finished epoch 64, latest loss 0.1803075075149536\n",
      "Finished epoch 65, latest loss 0.16751667857170105\n",
      "Finished epoch 66, latest loss 0.17755094170570374\n",
      "Finished epoch 67, latest loss 0.1842319667339325\n",
      "Finished epoch 68, latest loss 0.16994914412498474\n",
      "Finished epoch 69, latest loss 0.1853512078523636\n",
      "Finished epoch 70, latest loss 0.1657404601573944\n",
      "Finished epoch 71, latest loss 0.17209672927856445\n",
      "Finished epoch 72, latest loss 0.16936130821704865\n",
      "Finished epoch 73, latest loss 0.17145639657974243\n",
      "Finished epoch 74, latest loss 0.17975620925426483\n",
      "Finished epoch 75, latest loss 0.17829714715480804\n",
      "Finished epoch 76, latest loss 0.1784893125295639\n",
      "Finished epoch 77, latest loss 0.17488828301429749\n",
      "Finished epoch 78, latest loss 0.17732004821300507\n",
      "Finished epoch 79, latest loss 0.1740330457687378\n",
      "Finished epoch 80, latest loss 0.16850286722183228\n",
      "Finished epoch 81, latest loss 0.16907240450382233\n",
      "Finished epoch 82, latest loss 0.1678050011396408\n",
      "Finished epoch 83, latest loss 0.18870548903942108\n",
      "Finished epoch 84, latest loss 0.16567258536815643\n",
      "Finished epoch 85, latest loss 0.16666282713413239\n",
      "Finished epoch 86, latest loss 0.1693454533815384\n",
      "Finished epoch 87, latest loss 0.1753767430782318\n",
      "Finished epoch 88, latest loss 0.17703145742416382\n",
      "Finished epoch 89, latest loss 0.1643134504556656\n",
      "Finished epoch 90, latest loss 0.17160490155220032\n",
      "Finished epoch 91, latest loss 0.17512956261634827\n",
      "Finished epoch 92, latest loss 0.1672087013721466\n",
      "Finished epoch 93, latest loss 0.16863253712654114\n",
      "Finished epoch 94, latest loss 0.17114806175231934\n",
      "Finished epoch 95, latest loss 0.17481321096420288\n",
      "Finished epoch 96, latest loss 0.17101320624351501\n",
      "Finished epoch 97, latest loss 0.16612285375595093\n",
      "Finished epoch 98, latest loss 0.16383284330368042\n",
      "Finished epoch 99, latest loss 0.16128507256507874\n"
     ]
    }
   ],
   "source": [
    "loss_fn = nn.BCELoss()\n",
    "optimizer = optim.Adam(model.parameters(), lr=0.001)\n",
    "\n",
    "n_epochs = 100\n",
    "batch_size = 32\n",
    "\n",
    "for epoch in range(n_epochs):\n",
    "    for i in range(0, len(X_train_tensor), batch_size):\n",
    "        Xbatch = X_train_tensor[i:i+batch_size]\n",
    "        y_pred = model(Xbatch)\n",
    "        ybatch = y_train_tensor[i:i+batch_size]\n",
    "        loss = loss_fn(y_pred, ybatch)\n",
    "        optimizer.zero_grad() # resets the gradient for faster performance \n",
    "        loss.backward() # computes the gradient for the given batch \n",
    "        optimizer.step() # updates parameters based on gradient calculation \n",
    "    print(f'Finished epoch {epoch}, latest loss {loss}')"
   ]
  },
  {
   "cell_type": "markdown",
   "id": "27ad09cd-3bed-4553-9875-5665b84b2426",
   "metadata": {},
   "source": [
    "### Training Performance"
   ]
  },
  {
   "cell_type": "markdown",
   "id": "aba24e94-a394-4494-99fa-43e9994002a2",
   "metadata": {},
   "source": [
    "We compute the training accuracy of our model, which is the percentage of correctly labelled outcomes, to determine how well it classifies our desired outcome."
   ]
  },
  {
   "cell_type": "code",
   "execution_count": 36,
   "id": "f5859a00-d9bd-4379-9450-f8cf975a8721",
   "metadata": {},
   "outputs": [
    {
     "name": "stdout",
     "output_type": "stream",
     "text": [
      "Training Accuracy: 91.27%\n"
     ]
    }
   ],
   "source": [
    "with torch.no_grad(): # we don't want to update our gradient; we just want to see the already classified data\n",
    "    y_pred_train = model(X_train_tensor)\n",
    "\n",
    "train_classifications = y_pred_train.round()\n",
    "    \n",
    "train_accuracy = (train_classifications == y_train_tensor).float().mean()\n",
    "print(f\"Training Accuracy: {round(float(train_accuracy)*100, 2)}%\") # have to convert accuracy from Tensor to float"
   ]
  },
  {
   "cell_type": "markdown",
   "id": "ca026bf8-2d21-4743-aa74-92d071f9633a",
   "metadata": {},
   "source": [
    "This is a very encouraging training accuracy! However, it is quite high and could be a result of overtraining our data, or it could be the result of us having a class imbalance.\n",
    "\n",
    "Let us examine the class imbalance possibility: "
   ]
  },
  {
   "cell_type": "code",
   "execution_count": 41,
   "id": "bf3b83a4-9815-4832-9fe9-c719ffa76528",
   "metadata": {},
   "outputs": [
    {
     "name": "stdout",
     "output_type": "stream",
     "text": [
      "Number of Training Positives: 3148\n",
      "Number of Training Negatives: 24990\n"
     ]
    }
   ],
   "source": [
    "print(f\"Number of Training Positives: {len(torch.masked_select(y_train_tensor, y_train_tensor == 1))}\")\n",
    "print(f\"Number of Training Negatives: {len(torch.masked_select(y_train_tensor, y_train_tensor == 0))}\")"
   ]
  },
  {
   "cell_type": "markdown",
   "id": "2ec99b4f-feb7-4398-989e-c641d25a5444",
   "metadata": {},
   "source": [
    "We do have a rather large imbalance in class size, which could be artificially inflating our accuracy measure. Considering the size imbalance is large, but not to the point where we have too small of a sample size for either class, we will proceed forward with some other metrics to gain more insight into our model's performance on the training data."
   ]
  },
  {
   "cell_type": "code",
   "execution_count": 58,
   "id": "d6b11998-dcf0-4f18-8800-9a6d44f77c6d",
   "metadata": {},
   "outputs": [
    {
     "name": "stdout",
     "output_type": "stream",
     "text": [
      "Training Precision: 66.08%\n",
      "Training Recall: 45.11%\n",
      "Training F1 Score: 0.54\n",
      "Training Specificity: 2.92%\n",
      "Training True Negative Rate (TNR): 97.08%\n",
      "Training False Negative Rate (FNR): 54.89%\n"
     ]
    }
   ],
   "source": [
    "def calculate_pos_neg(predictions, original):\n",
    "    ''' Calculates TP, TN, FP, FN of given Tensors\n",
    "    \n",
    "        Inputs:\n",
    "        predictions (tensor): tensor of predicted class probabilities\n",
    "        original (tensor): original outcome/class assignments\n",
    "        \n",
    "        Outputs:\n",
    "        results (list): List of TP, TN, FP, and FN \n",
    "    '''\n",
    "    classifications = predictions.round() # turns probabilities into 0/1 classifications \n",
    "    \n",
    "    combined = torch.stack((classifications, original), 0) # combined[0] is classifications, combined[1] is y_train_tensor\n",
    "    tp, fp, tn, fn = 0, 0, 0, 0\n",
    "    for i in range(len(classifications)):\n",
    "        if combined[0][i] == combined[1][i]:\n",
    "            if combined[0][i] == 1:\n",
    "                tp += 1\n",
    "            else:\n",
    "                tn += 1\n",
    "        if combined[0][i] != combined[1][i]:\n",
    "            if combined[0][i] == 1:\n",
    "                fp += 1\n",
    "            else: \n",
    "                fn += 1\n",
    "                \n",
    "    return [tp, fp, tn, fn]\n",
    "\n",
    "train_metrics = calculate_pos_neg(y_pred_train, y_train_tensor)\n",
    "train_tp = train_metrics[0]\n",
    "train_fp = train_metrics[1]\n",
    "train_tn = train_metrics[2]\n",
    "train_fn = train_metrics[3]\n",
    "            \n",
    "train_precision = train_tp / (train_tp + train_fp)\n",
    "train_recall = train_tp / (train_tp + train_fn)\n",
    "train_f1 = (2 * train_precision * train_recall) / (train_precision + train_recall)\n",
    "train_specificity = train_fp / (train_fp + train_tn)\n",
    "train_tnr = train_tn / (train_tn + train_fp)\n",
    "train_fnr = train_fn / (train_fn + train_tp)\n",
    "\n",
    "print(f\"Training Precision: {round(train_precision * 100, 2)}%\")\n",
    "print(f\"Training Recall: {round(train_recall * 100, 2)}%\")\n",
    "print(f\"Training F1 Score: {round(train_f1, 2)}\")\n",
    "print(f\"Training Specificity: {round(train_specificity * 100, 2)}%\")\n",
    "print(f\"Training True Negative Rate (TNR): {round(train_tnr * 100, 2)}%\")\n",
    "print(f\"Training False Negative Rate (FNR): {round(train_fnr * 100, 2)}%\")"
   ]
  },
  {
   "cell_type": "markdown",
   "id": "ed2416ec-59e0-4165-8116-a08ecaf4f230",
   "metadata": {},
   "source": [
    "As we can see, with these other metrics, our model's accuracy is not reflective of what we would want to see. The training model is exceptionally good at identifying negatives correctly (TNR), but only decent at identifying positives correctly (Precision). \n",
    "\n",
    "Our F1 score, which is the weighted mean of precision and recall, suggests that our model is average at best at predicting positives."
   ]
  },
  {
   "cell_type": "markdown",
   "id": "40c0f761-2e41-4a00-9c4e-c69551b0c448",
   "metadata": {},
   "source": [
    "### Fitting Model on Test Data"
   ]
  },
  {
   "cell_type": "markdown",
   "id": "686bf440-cb75-45eb-9457-54f9beee6815",
   "metadata": {},
   "source": [
    "To address the overfitting concern, let us use our test data to assess the model performance:"
   ]
  },
  {
   "cell_type": "code",
   "execution_count": 59,
   "id": "c156a2a6-deb3-489f-adb7-b55252519cfe",
   "metadata": {},
   "outputs": [],
   "source": [
    "# Converting test data to Tensors\n",
    "\n",
    "X_test_tensor = df_to_tensor(X_test, outcome = False)\n",
    "y_test_tensor = df_to_tensor(y_test, outcome = True)"
   ]
  },
  {
   "cell_type": "code",
   "execution_count": 60,
   "id": "9b37ef33-ad2a-4700-9185-79b52421dbbc",
   "metadata": {},
   "outputs": [
    {
     "name": "stdout",
     "output_type": "stream",
     "text": [
      "Test Accuracy: 90.95%\n"
     ]
    }
   ],
   "source": [
    "# computing test accuracy \n",
    "\n",
    "with torch.no_grad():\n",
    "    y_pred_test = model(X_test_tensor)\n",
    "\n",
    "test_accuracy = (y_pred_test.round() == y_test_tensor).float().mean()\n",
    "print(f\"Test Accuracy: {round(float(test_accuracy)*100, 2)}%\")"
   ]
  },
  {
   "cell_type": "markdown",
   "id": "ce464b40-9cc4-43e6-912e-eee54cf8d1e5",
   "metadata": {},
   "source": [
    "We have a similarly high test data accuracy, so let's examine the class balance here: "
   ]
  },
  {
   "cell_type": "code",
   "execution_count": 61,
   "id": "466210fd-bdcb-4f8f-8df3-ebed23a11394",
   "metadata": {},
   "outputs": [
    {
     "name": "stdout",
     "output_type": "stream",
     "text": [
      "Number of Testing Positives: 1385\n",
      "Number of Testing Negatives: 10675\n"
     ]
    }
   ],
   "source": [
    "print(f\"Number of Testing Positives: {len(torch.masked_select(y_test_tensor, y_test_tensor == 1))}\")\n",
    "print(f\"Number of Testing Negatives: {len(torch.masked_select(y_test_tensor, y_test_tensor == 0))}\")"
   ]
  },
  {
   "cell_type": "markdown",
   "id": "3cfb871f-79cb-40fd-ab90-763a91623e19",
   "metadata": {},
   "source": [
    "Our class imbalance is arguably worse here, so let's see how this affects our performance metrics:"
   ]
  },
  {
   "cell_type": "code",
   "execution_count": 62,
   "id": "44017008-13db-47c7-965c-2122d455ca5d",
   "metadata": {},
   "outputs": [
    {
     "name": "stdout",
     "output_type": "stream",
     "text": [
      "Testing Precision: 66.3%\n",
      "Testing Recall: 43.03%\n",
      "Testing F1 Score: 0.52\n",
      "Testing Specificity: 2.84%\n",
      "Testing True Negative Rate (TNR): 97.16%\n",
      "Testing False Negative Rate (FNR): 56.97%\n"
     ]
    }
   ],
   "source": [
    "test_metrics = calculate_pos_neg(y_pred_test, y_test_tensor)\n",
    "test_tp = test_metrics[0]\n",
    "test_fp = test_metrics[1]\n",
    "test_tn = test_metrics[2]\n",
    "test_fn = test_metrics[3]\n",
    "            \n",
    "test_precision = test_tp / (test_tp + test_fp)\n",
    "test_recall = test_tp / (test_tp + test_fn)\n",
    "test_f1 = (2 * test_precision * test_recall) / (test_precision + test_recall)\n",
    "test_specificity = test_fp / (test_fp + test_tn)\n",
    "test_tnr = test_tn / (test_tn + test_fp)\n",
    "test_fnr = test_fn / (test_fn + test_tp)\n",
    "\n",
    "print(f\"Testing Precision: {round(test_precision * 100, 2)}%\")\n",
    "print(f\"Testing Recall: {round(test_recall * 100, 2)}%\")\n",
    "print(f\"Testing F1 Score: {round(test_f1, 2)}\")\n",
    "print(f\"Testing Specificity: {round(test_specificity * 100, 2)}%\")\n",
    "print(f\"Testing True Negative Rate (TNR): {round(test_tnr * 100, 2)}%\")\n",
    "print(f\"Testing False Negative Rate (FNR): {round(test_fnr * 100, 2)}%\")"
   ]
  },
  {
   "cell_type": "markdown",
   "id": "4fefede8-de1a-4ac9-bd93-54c9965eff72",
   "metadata": {},
   "source": [
    "We perform roughly the same compared to our training model. "
   ]
  }
 ],
 "metadata": {
  "kernelspec": {
   "display_name": "Python 3 (ipykernel)",
   "language": "python",
   "name": "python3"
  },
  "language_info": {
   "codemirror_mode": {
    "name": "ipython",
    "version": 3
   },
   "file_extension": ".py",
   "mimetype": "text/x-python",
   "name": "python",
   "nbconvert_exporter": "python",
   "pygments_lexer": "ipython3",
   "version": "3.9.15"
  }
 },
 "nbformat": 4,
 "nbformat_minor": 5
}
